{
 "cells": [
  {
   "cell_type": "code",
   "execution_count": 1,
   "id": "8021c9e1-336b-49fd-b002-fec46cfb31d9",
   "metadata": {},
   "outputs": [
    {
     "name": "stdout",
     "output_type": "stream",
     "text": [
      "Current working directory: C:\\Users\\91790\\OneDrive\\Desktop\\OCR_Project\n"
     ]
    }
   ],
   "source": [
    "import os\n",
    "print(\"Current working directory:\", os.getcwd())"
   ]
  },
  {
   "cell_type": "code",
   "execution_count": 2,
   "id": "083dfb38-83b0-43aa-8c34-f395d6ef98e8",
   "metadata": {},
   "outputs": [],
   "source": [
    "import pytesseract\n",
    "from PIL import Image\n",
    "import os\n",
    "\n",
    "# Set the tesseract path (Windows only, adjust if different)\n",
    "pytesseract.pytesseract.tesseract_cmd = r\"C:\\Program Files\\Tesseract-OCR\\tesseract.exe\"\n",
    "\n",
    "# Use relative path (now that folder is in working directory)\n",
    "folder_path = r\"C:\\Users\\91790\\OneDrive\\Desktop\\OCR_Project\\IIIT5K-Word_V3.0\"\n",
    "\n",
    "# OCR on first 5 images\n",
    "for i, filename in enumerate(os.listdir(folder_path)):\n",
    "    if filename.lower().endswith(('.jpg', '.png')):\n",
    "        img_path = os.path.join(folder_path, filename)\n",
    "        img = Image.open(img_path)\n",
    "        text = pytesseract.image_to_string(img)\n",
    "        print(f\"{filename}:\\n{text.strip()}\\n{'-'*50}\")\n",
    "        \n",
    "        if i >= 4:\n",
    "            break\n"
   ]
  },
  {
   "cell_type": "code",
   "execution_count": 3,
   "id": "73aa832b-5562-4dec-b86e-f0a04ed64b1b",
   "metadata": {},
   "outputs": [],
   "source": [
    "import os\n",
    "\n",
    "# Change this to your actual path\n",
    "dataset_path = r\"C:\\Users\\YourName\\Desktop\\OCR_Project\\IIIT5K-Word_V3.0\"\n",
    "image_folder = os.path.join(dataset_path, \"train\")  # assuming images are in 'train' folder\n",
    "annotation_file = os.path.join(dataset_path, \"annotation.txt\")\n"
   ]
  },
  {
   "cell_type": "code",
   "execution_count": 4,
   "id": "76b6cdd6-4ee6-470f-93f6-d5aac7cff784",
   "metadata": {},
   "outputs": [
    {
     "name": "stdout",
     "output_type": "stream",
     "text": [
      "Defaulting to user installation because normal site-packages is not writeable\n",
      "Requirement already satisfied: pandas in c:\\users\\91790\\appdata\\roaming\\python\\python313\\site-packages (2.3.0)\n",
      "Requirement already satisfied: matplotlib in c:\\users\\91790\\appdata\\roaming\\python\\python313\\site-packages (3.10.3)\n",
      "Requirement already satisfied: pillow in c:\\users\\91790\\appdata\\roaming\\python\\python313\\site-packages (11.2.1)\n",
      "Requirement already satisfied: easyocr in c:\\users\\91790\\appdata\\roaming\\python\\python313\\site-packages (1.7.2)\n",
      "Requirement already satisfied: pytesseract in c:\\users\\91790\\appdata\\roaming\\python\\python313\\site-packages (0.3.13)\n",
      "Requirement already satisfied: Levenshtein in c:\\users\\91790\\appdata\\roaming\\python\\python313\\site-packages (0.27.1)\n",
      "Requirement already satisfied: torch in c:\\users\\91790\\appdata\\roaming\\python\\python313\\site-packages (2.7.1)\n",
      "Requirement already satisfied: torchvision in c:\\users\\91790\\appdata\\roaming\\python\\python313\\site-packages (0.22.1)\n",
      "Requirement already satisfied: numpy>=1.26.0 in c:\\users\\91790\\appdata\\roaming\\python\\python313\\site-packages (from pandas) (2.3.0)\n",
      "Requirement already satisfied: python-dateutil>=2.8.2 in c:\\users\\91790\\appdata\\roaming\\python\\python313\\site-packages (from pandas) (2.9.0.post0)\n",
      "Requirement already satisfied: pytz>=2020.1 in c:\\users\\91790\\appdata\\roaming\\python\\python313\\site-packages (from pandas) (2025.2)\n",
      "Requirement already satisfied: tzdata>=2022.7 in c:\\users\\91790\\appdata\\roaming\\python\\python313\\site-packages (from pandas) (2025.2)\n",
      "Requirement already satisfied: contourpy>=1.0.1 in c:\\users\\91790\\appdata\\roaming\\python\\python313\\site-packages (from matplotlib) (1.3.2)\n",
      "Requirement already satisfied: cycler>=0.10 in c:\\users\\91790\\appdata\\roaming\\python\\python313\\site-packages (from matplotlib) (0.12.1)\n",
      "Requirement already satisfied: fonttools>=4.22.0 in c:\\users\\91790\\appdata\\roaming\\python\\python313\\site-packages (from matplotlib) (4.58.4)\n",
      "Requirement already satisfied: kiwisolver>=1.3.1 in c:\\users\\91790\\appdata\\roaming\\python\\python313\\site-packages (from matplotlib) (1.4.8)\n",
      "Requirement already satisfied: packaging>=20.0 in c:\\users\\91790\\appdata\\roaming\\python\\python313\\site-packages (from matplotlib) (24.2)\n",
      "Requirement already satisfied: pyparsing>=2.3.1 in c:\\users\\91790\\appdata\\roaming\\python\\python313\\site-packages (from matplotlib) (3.2.3)\n",
      "Requirement already satisfied: opencv-python-headless in c:\\users\\91790\\appdata\\roaming\\python\\python313\\site-packages (from easyocr) (4.11.0.86)\n",
      "Requirement already satisfied: scipy in c:\\users\\91790\\appdata\\roaming\\python\\python313\\site-packages (from easyocr) (1.15.3)\n",
      "Requirement already satisfied: scikit-image in c:\\users\\91790\\appdata\\roaming\\python\\python313\\site-packages (from easyocr) (0.25.2)\n",
      "Requirement already satisfied: python-bidi in c:\\users\\91790\\appdata\\roaming\\python\\python313\\site-packages (from easyocr) (0.6.6)\n",
      "Requirement already satisfied: PyYAML in c:\\users\\91790\\appdata\\roaming\\python\\python313\\site-packages (from easyocr) (6.0.2)\n",
      "Requirement already satisfied: Shapely in c:\\users\\91790\\appdata\\roaming\\python\\python313\\site-packages (from easyocr) (2.1.1)\n",
      "Requirement already satisfied: pyclipper in c:\\users\\91790\\appdata\\roaming\\python\\python313\\site-packages (from easyocr) (1.3.0.post6)\n",
      "Requirement already satisfied: ninja in c:\\users\\91790\\appdata\\roaming\\python\\python313\\site-packages (from easyocr) (1.11.1.4)\n",
      "Requirement already satisfied: rapidfuzz<4.0.0,>=3.9.0 in c:\\users\\91790\\appdata\\roaming\\python\\python313\\site-packages (from Levenshtein) (3.13.0)\n",
      "Requirement already satisfied: filelock in c:\\users\\91790\\appdata\\roaming\\python\\python313\\site-packages (from torch) (3.18.0)\n",
      "Requirement already satisfied: typing-extensions>=4.10.0 in c:\\users\\91790\\appdata\\roaming\\python\\python313\\site-packages (from torch) (4.14.0)\n",
      "Requirement already satisfied: sympy>=1.13.3 in c:\\users\\91790\\appdata\\roaming\\python\\python313\\site-packages (from torch) (1.14.0)\n",
      "Requirement already satisfied: networkx in c:\\users\\91790\\appdata\\roaming\\python\\python313\\site-packages (from torch) (3.5)\n",
      "Requirement already satisfied: jinja2 in c:\\users\\91790\\appdata\\roaming\\python\\python313\\site-packages (from torch) (3.1.5)\n",
      "Requirement already satisfied: fsspec in c:\\users\\91790\\appdata\\roaming\\python\\python313\\site-packages (from torch) (2025.3.0)\n",
      "Requirement already satisfied: setuptools in c:\\users\\91790\\appdata\\roaming\\python\\python313\\site-packages (from torch) (75.6.0)\n",
      "Requirement already satisfied: six>=1.5 in c:\\users\\91790\\appdata\\roaming\\python\\python313\\site-packages (from python-dateutil>=2.8.2->pandas) (1.17.0)\n",
      "Requirement already satisfied: mpmath<1.4,>=1.1.0 in c:\\users\\91790\\appdata\\roaming\\python\\python313\\site-packages (from sympy>=1.13.3->torch) (1.3.0)\n",
      "Requirement already satisfied: MarkupSafe>=2.0 in c:\\users\\91790\\appdata\\roaming\\python\\python313\\site-packages (from jinja2->torch) (3.0.2)\n",
      "Requirement already satisfied: imageio!=2.35.0,>=2.33 in c:\\users\\91790\\appdata\\roaming\\python\\python313\\site-packages (from scikit-image->easyocr) (2.37.0)\n",
      "Requirement already satisfied: tifffile>=2022.8.12 in c:\\users\\91790\\appdata\\roaming\\python\\python313\\site-packages (from scikit-image->easyocr) (2025.6.11)\n",
      "Requirement already satisfied: lazy-loader>=0.4 in c:\\users\\91790\\appdata\\roaming\\python\\python313\\site-packages (from scikit-image->easyocr) (0.4)\n",
      "Note: you may need to restart the kernel to use updated packages.\n"
     ]
    }
   ],
   "source": [
    "pip install pandas matplotlib pillow easyocr pytesseract Levenshtein torch torchvision\n"
   ]
  },
  {
   "cell_type": "code",
   "execution_count": 5,
   "id": "443dce0d-9c62-44e9-a5ce-bde50d6d9184",
   "metadata": {},
   "outputs": [],
   "source": [
    "import os\n",
    "import pandas as pd\n",
    "import matplotlib.pyplot as plt\n",
    "from PIL import Image\n",
    "import pytesseract\n",
    "import easyocr\n",
    "from tqdm import tqdm\n",
    "import numpy as np\n"
   ]
  },
  {
   "cell_type": "code",
   "execution_count": 6,
   "id": "5756cca9-ea90-4b35-89e0-3a3a1e856e80",
   "metadata": {},
   "outputs": [],
   "source": [
    "dataset_path = r\"C:\\Users\\YourName\\Desktop\\OCR_Project\\IIIT5K-Word_V3.0\"\n",
    "annotation_file = os.path.join(dataset_path, \"train.txt\")  # change to test.txt if needed\n",
    "image_folder = os.path.join(dataset_path, \"train\")"
   ]
  },
  {
   "cell_type": "code",
   "execution_count": 7,
   "id": "532f45da-4f37-4bf9-b3ef-6c04f28817b7",
   "metadata": {},
   "outputs": [],
   "source": [
    "dataset_path = r\"C:\\Users\\91790\\OneDrive\\Desktop\\OCR_Project\\IIIT5K-Word_V3.0\"\n"
   ]
  },
  {
   "cell_type": "code",
   "execution_count": 8,
   "id": "fbb15396-bef6-467b-ae47-8c5903778d61",
   "metadata": {},
   "outputs": [
    {
     "name": "stdout",
     "output_type": "stream",
     "text": [
      "Contents:\n",
      " ['gt.csv', 'IIIT5K']\n"
     ]
    }
   ],
   "source": [
    "import os\n",
    "print(\"Contents:\\n\", os.listdir(dataset_path))\n"
   ]
  },
  {
   "cell_type": "code",
   "execution_count": 9,
   "id": "d103de07-721e-4ca3-b403-7ab21511b092",
   "metadata": {},
   "outputs": [
    {
     "name": "stdout",
     "output_type": "stream",
     "text": [
      "Contents of dataset folder:\n",
      "['gt.csv', 'IIIT5K']\n"
     ]
    }
   ],
   "source": [
    "import os\n",
    "\n",
    "# Set your actual dataset folder path here\n",
    "dataset_path = r\"C:\\Users\\91790\\OneDrive\\Desktop\\OCR_Project\\IIIT5K-Word_V3.0\"\n",
    "\n",
    "# List all files in the dataset directory\n",
    "print(\"Contents of dataset folder:\")\n",
    "print(os.listdir(dataset_path))\n"
   ]
  },
  {
   "cell_type": "code",
   "execution_count": 10,
   "id": "f90e7a93-47e9-43b8-b801-117a113d77db",
   "metadata": {},
   "outputs": [
    {
     "name": "stdout",
     "output_type": "stream",
     "text": [
      "Contents of IIIT5K folder:\n",
      "['easyocr_models', 'lexicon.txt', 'README', 'test', 'testCharBound.mat', 'testdata.mat', 'train', 'trainCharBound.mat', 'traindata.mat']\n"
     ]
    }
   ],
   "source": [
    "import os\n",
    "\n",
    "# Updated path to include 'IIIT5K'\n",
    "dataset_path = r\"C:\\Users\\91790\\OneDrive\\Desktop\\OCR_Project\\IIIT5K-Word_V3.0\\IIIT5K\"\n",
    "\n",
    "print(\"Contents of IIIT5K folder:\")\n",
    "print(os.listdir(dataset_path))\n"
   ]
  },
  {
   "cell_type": "code",
   "execution_count": 11,
   "id": "55ca3e2b-5cf8-46e3-a808-9c0d24f403c0",
   "metadata": {},
   "outputs": [
    {
     "name": "stdout",
     "output_type": "stream",
     "text": [
      "Defaulting to user installation because normal site-packages is not writeable\n",
      "Requirement already satisfied: scipy in c:\\users\\91790\\appdata\\roaming\\python\\python313\\site-packages (1.15.3)\n",
      "Requirement already satisfied: numpy<2.5,>=1.23.5 in c:\\users\\91790\\appdata\\roaming\\python\\python313\\site-packages (from scipy) (2.3.0)\n",
      "Note: you may need to restart the kernel to use updated packages.\n"
     ]
    }
   ],
   "source": [
    "pip install scipy\n"
   ]
  },
  {
   "cell_type": "code",
   "execution_count": 12,
   "id": "f06ad459-6c82-473c-9f58-811cdfe17859",
   "metadata": {},
   "outputs": [
    {
     "name": "stdout",
     "output_type": "stream",
     "text": [
      "dict_keys(['__header__', '__version__', '__globals__', 'traindata'])\n"
     ]
    }
   ],
   "source": [
    "import os\n",
    "import scipy.io\n",
    "import pandas as pd\n",
    "\n",
    "# Use 'train' or 'test' version\n",
    "mat_path = r\"C:\\Users\\91790\\OneDrive\\Desktop\\OCR_Project\\IIIT5K-Word_V3.0\\IIIT5K\\traindata.mat\"\n",
    "img_folder = r\"C:\\Users\\91790\\OneDrive\\Desktop\\OCR_Project\\IIIT5K-Word_V3.0\\IIIT5K\\train\"\n",
    "\n",
    "# Load .mat file\n",
    "data = scipy.io.loadmat(mat_path)\n",
    "print(data.keys())  # See available keys like 'imnames', 'words'\n"
   ]
  },
  {
   "cell_type": "code",
   "execution_count": 13,
   "id": "76f9bd03-98bb-41cc-8b12-bd2e8c2fe32a",
   "metadata": {},
   "outputs": [
    {
     "name": "stdout",
     "output_type": "stream",
     "text": [
      "Keys in .mat file: dict_keys(['__header__', '__version__', '__globals__', 'traindata'])\n"
     ]
    }
   ],
   "source": [
    "import scipy.io\n",
    "\n",
    "mat_path = r\"C:\\Users\\91790\\OneDrive\\Desktop\\OCR_Project\\IIIT5K-Word_V3.0\\IIIT5K\\traindata.mat\"\n",
    "data = scipy.io.loadmat(mat_path)\n",
    "\n",
    "# Print all keys\n",
    "print(\"Keys in .mat file:\", data.keys())\n"
   ]
  },
  {
   "cell_type": "code",
   "execution_count": 16,
   "id": "ac5e8078-c734-4726-8c27-1aa6552fa999",
   "metadata": {},
   "outputs": [
    {
     "name": "stdout",
     "output_type": "stream",
     "text": [
      "Shape: (1, 2000)\n",
      "Type of elements: <class 'numpy.void'>\n",
      "Field names in struct: [('ImgName', 'O'), ('GroundTruth', 'O'), ('smallLexi', 'O'), ('mediumLexi', 'O')]\n"
     ]
    }
   ],
   "source": [
    "# Explore the structure of 'traindata'\n",
    "data_struct = data['traindata']\n",
    "print(\"Shape:\", data_struct.shape)\n",
    "print(\"Type of elements:\", type(data_struct[0][0]))\n",
    "print(\"Field names in struct:\", data_struct[0][0].dtype)\n"
   ]
  },
  {
   "cell_type": "code",
   "execution_count": 17,
   "id": "53bc3860-a77a-493d-9904-db4daa52f8ac",
   "metadata": {},
   "outputs": [
    {
     "name": "stdout",
     "output_type": "stream",
     "text": [
      "         image_name     text  \\\n",
      "0  train/1009_2.png      YOU   \n",
      "1  train/1017_1.png   RESCUE   \n",
      "2  train/1017_2.png  MISSION   \n",
      "3  train/1021_1.png     HOME   \n",
      "4  train/1023_1.png   BORDER   \n",
      "\n",
      "                                          image_path  \n",
      "0  C:\\Users\\91790\\OneDrive\\Desktop\\OCR_Project\\II...  \n",
      "1  C:\\Users\\91790\\OneDrive\\Desktop\\OCR_Project\\II...  \n",
      "2  C:\\Users\\91790\\OneDrive\\Desktop\\OCR_Project\\II...  \n",
      "3  C:\\Users\\91790\\OneDrive\\Desktop\\OCR_Project\\II...  \n",
      "4  C:\\Users\\91790\\OneDrive\\Desktop\\OCR_Project\\II...  \n"
     ]
    }
   ],
   "source": [
    "import scipy.io\n",
    "import pandas as pd\n",
    "import os\n",
    "\n",
    "# Load the .mat file\n",
    "mat_path = r\"C:\\Users\\91790\\OneDrive\\Desktop\\OCR_Project\\IIIT5K-Word_V3.0\\IIIT5K\\traindata.mat\"\n",
    "image_folder = r\"C:\\Users\\91790\\OneDrive\\Desktop\\OCR_Project\\IIIT5K-Word_V3.0\\IIIT5K\\train\"\n",
    "\n",
    "data = scipy.io.loadmat(mat_path)\n",
    "entries = data['traindata'][0]  # length = 2000\n",
    "\n",
    "# Extract image names and ground truth\n",
    "image_names = [entry['ImgName'][0] for entry in entries]\n",
    "ground_truths = [entry['GroundTruth'][0] for entry in entries]\n",
    "\n",
    "# Create DataFrame\n",
    "df = pd.DataFrame({'image_name': image_names, 'text': ground_truths})\n",
    "df['image_path'] = df['image_name'].apply(lambda x: os.path.join(image_folder, x))\n",
    "\n",
    "print(df.head())\n"
   ]
  },
  {
   "cell_type": "code",
   "execution_count": 18,
   "id": "2c9a8c1d-8d9e-4b63-a88d-0f571c11d3f8",
   "metadata": {},
   "outputs": [
    {
     "name": "stdout",
     "output_type": "stream",
     "text": [
      "         image_name     text  \\\n",
      "0  train/1009_2.png      YOU   \n",
      "1  train/1017_1.png   RESCUE   \n",
      "2  train/1017_2.png  MISSION   \n",
      "3  train/1021_1.png     HOME   \n",
      "4  train/1023_1.png   BORDER   \n",
      "\n",
      "                                          image_path  \n",
      "0  C:\\Users\\91790\\OneDrive\\Desktop\\OCR_Project\\II...  \n",
      "1  C:\\Users\\91790\\OneDrive\\Desktop\\OCR_Project\\II...  \n",
      "2  C:\\Users\\91790\\OneDrive\\Desktop\\OCR_Project\\II...  \n",
      "3  C:\\Users\\91790\\OneDrive\\Desktop\\OCR_Project\\II...  \n",
      "4  C:\\Users\\91790\\OneDrive\\Desktop\\OCR_Project\\II...  \n"
     ]
    }
   ],
   "source": [
    "dataset_path = r\"C:\\Users\\91790\\OneDrive\\Desktop\\OCR_Project\\IIIT5K-Word_V3.0\\IIIT5K\"\n",
    "mat_path = os.path.join(dataset_path, \"traindata.mat\")\n",
    "\n",
    "data = scipy.io.loadmat(mat_path)\n",
    "entries = data['traindata'][0]\n",
    "\n",
    "image_names = [entry['ImgName'][0] for entry in entries]\n",
    "ground_truths = [entry['GroundTruth'][0] for entry in entries]\n",
    "\n",
    "df = pd.DataFrame({'image_name': image_names, 'text': ground_truths})\n",
    "df['image_path'] = df['image_name'].apply(lambda x: os.path.join(dataset_path, x))  # ← fixed\n",
    "\n",
    "print(df.head())\n"
   ]
  },
  {
   "cell_type": "code",
   "execution_count": 19,
   "id": "1cd6b85e-6b4f-4891-87ac-c96e536ac4bb",
   "metadata": {},
   "outputs": [
    {
     "data": {
      "image/png": "[encoded data removed]",
      "text/plain": [
       "<Figure size 640x480 with 1 Axes>"
      ]
     },
     "metadata": {},
     "output_type": "display_data"
    }
   ],
   "source": [
    "img = Image.open(df.iloc[0]['image_path'])\n",
    "plt.imshow(img)\n",
    "plt.title(f\"Label: {df.iloc[0]['text']}\")\n",
    "plt.axis('off')\n",
    "plt.show()\n"
   ]
  },
  {
   "cell_type": "code",
   "execution_count": 20,
   "id": "97f9317c-c820-4d0e-8f82-ed7cd8856eaa",
   "metadata": {},
   "outputs": [],
   "source": [
    "\n",
    "import os\n",
    "import pandas as pd\n",
    "import matplotlib.pyplot as plt\n",
    "from PIL import Image\n",
    "import pytesseract\n",
    "import easyocr\n",
    "import numpy as np\n",
    "import scipy.io\n",
    "from Levenshtein import distance as lev_dist"
   ]
  },
  {
   "cell_type": "code",
   "execution_count": 21,
   "id": "d8fbf9ea-72f9-441e-b311-58a7db8c59dd",
   "metadata": {},
   "outputs": [
    {
     "name": "stdout",
     "output_type": "stream",
     "text": [
      "Defaulting to user installation because normal site-packages is not writeable\n",
      "Requirement already satisfied: tqdm in c:\\users\\91790\\appdata\\roaming\\python\\python313\\site-packages (4.67.1)\n",
      "Requirement already satisfied: colorama in c:\\users\\91790\\appdata\\roaming\\python\\python313\\site-packages (from tqdm) (0.4.6)\n"
     ]
    }
   ],
   "source": [
    "!pip install tqdm\n",
    "try:\n",
    "    from tqdm import tqdm\n",
    "except ImportError:\n",
    "    print(\"tqdm module not found. Please install it using: pip install tqdm\")\n",
    "    tqdm = lambda x: x  # fallback dummy tqdm"
   ]
  },
  {
   "cell_type": "code",
   "execution_count": 22,
   "id": "6f6395cc-24bb-476b-95d4-89c1fe6a3414",
   "metadata": {},
   "outputs": [
    {
     "name": "stdout",
     "output_type": "stream",
     "text": [
      "         image_name     text  \\\n",
      "0  train/1009_2.png      YOU   \n",
      "1  train/1017_1.png   RESCUE   \n",
      "2  train/1017_2.png  MISSION   \n",
      "3  train/1021_1.png     HOME   \n",
      "4  train/1023_1.png   BORDER   \n",
      "\n",
      "                                          image_path  \n",
      "0  C:\\Users\\91790\\OneDrive\\Desktop\\OCR_Project\\II...  \n",
      "1  C:\\Users\\91790\\OneDrive\\Desktop\\OCR_Project\\II...  \n",
      "2  C:\\Users\\91790\\OneDrive\\Desktop\\OCR_Project\\II...  \n",
      "3  C:\\Users\\91790\\OneDrive\\Desktop\\OCR_Project\\II...  \n",
      "4  C:\\Users\\91790\\OneDrive\\Desktop\\OCR_Project\\II...  \n"
     ]
    }
   ],
   "source": [
    "dataset_path = r\"C:\\Users\\91790\\OneDrive\\Desktop\\OCR_Project\\IIIT5K-Word_V3.0\\IIIT5K\"\n",
    "mat_path = os.path.join(dataset_path, \"traindata.mat\")\n",
    "data = scipy.io.loadmat(mat_path)\n",
    "entries = data['traindata'][0]\n",
    "\n",
    "# Extract image filenames and ground truth labels\n",
    "image_names = [entry['ImgName'][0] for entry in entries]\n",
    "ground_truths = [entry['GroundTruth'][0] for entry in entries]\n",
    "\n",
    "df = pd.DataFrame({'image_name': image_names, 'text': ground_truths})\n",
    "df['image_path'] = df['image_name'].apply(lambda x: os.path.join(dataset_path, x))\n",
    "\n",
    "print(df.head())"
   ]
  },
  {
   "cell_type": "code",
   "execution_count": 23,
   "id": "05fd2cc5-822b-45b3-8f04-4333cc66b68e",
   "metadata": {},
   "outputs": [
    {
     "data": {
      "image/png": "[encoded data removed]",
      "text/plain": [
       "<Figure size 640x480 with 1 Axes>"
      ]
     },
     "metadata": {},
     "output_type": "display_data"
    }
   ],
   "source": [
    "img = Image.open(df.iloc[0]['image_path'])\n",
    "plt.imshow(img)\n",
    "plt.title(f\"Label: {df.iloc[0]['text']}\")\n",
    "plt.axis('off')\n",
    "plt.show()"
   ]
  },
  {
   "cell_type": "code",
   "execution_count": 24,
   "id": "64b75553-9d16-4ca5-a647-6adc3dccb02c",
   "metadata": {},
   "outputs": [
    {
     "name": "stdout",
     "output_type": "stream",
     "text": [
      "Tesseract OCR Result: You\n",
      "\n"
     ]
    }
   ],
   "source": [
    "pytesseract.pytesseract.tesseract_cmd = r\"C:\\Program Files\\Tesseract-OCR\\tesseract.exe\"  # Adjust if needed\n",
    "text_tess = pytesseract.image_to_string(df.iloc[0]['image_path'], lang='eng')\n",
    "print(f\"Tesseract OCR Result: {text_tess}\")\n"
   ]
  },
  {
   "cell_type": "code",
   "execution_count": 25,
   "id": "675287b7-183f-4a9c-ae72-f7013ab1adb1",
   "metadata": {},
   "outputs": [
    {
     "name": "stderr",
     "output_type": "stream",
     "text": [
      "100%|██████████████████████████████████████████████████████████████████████████████████| 25/25 [00:09<00:00,  2.61it/s]"
     ]
    },
    {
     "name": "stdout",
     "output_type": "stream",
     "text": [
      "\n",
      "Average Tesseract OCR Accuracy on 25 images: 0.53\n"
     ]
    },
    {
     "name": "stderr",
     "output_type": "stream",
     "text": [
      "\n"
     ]
    }
   ],
   "source": [
    "def accuracy(gt, pred):\n",
    "    if not pred.strip(): return 0\n",
    "    return 1 - lev_dist(gt.lower(), pred.lower()) / max(len(gt), len(pred))\n",
    "\n",
    "results = []\n",
    "for i in tqdm(range(25)):\n",
    "    img_path = df.iloc[i]['image_path']\n",
    "    gt = df.iloc[i]['text']\n",
    "    try:\n",
    "        pred_text = pytesseract.image_to_string(img_path, lang='eng').strip()\n",
    "        acc = accuracy(gt, pred_text)\n",
    "        results.append((gt, pred_text, acc))\n",
    "    except:\n",
    "        results.append((gt, '', 0))\n",
    "\n",
    "avg_acc = np.mean([r[2] for r in results])\n",
    "print(f\"\\nAverage Tesseract OCR Accuracy on 25 images: {avg_acc:.2f}\")"
   ]
  },
  {
   "cell_type": "code",
   "execution_count": 26,
   "id": "934f7cde-476d-4a1e-be11-8622145e5408",
   "metadata": {},
   "outputs": [
    {
     "data": {
      "image/png": "[encoded data removed]",
      "text/plain": [
       "<Figure size 800x500 with 1 Axes>"
      ]
     },
     "metadata": {},
     "output_type": "display_data"
    },
    {
     "data": {
      "image/png": "[encoded data removed]",
      "text/plain": [
       "<Figure size 800x500 with 1 Axes>"
      ]
     },
     "metadata": {},
     "output_type": "display_data"
    },
    {
     "data": {
      "image/png": "[encoded data removed]",
      "text/plain": [
       "<Figure size 800x500 with 1 Axes>"
      ]
     },
     "metadata": {},
     "output_type": "display_data"
    },
    {
     "data": {
      "image/png": "[encoded data removed]",
      "text/plain": [
       "<Figure size 800x500 with 1 Axes>"
      ]
     },
     "metadata": {},
     "output_type": "display_data"
    },
    {
     "data": {
      "image/png": "[encoded data removed]",
      "text/plain": [
       "<Figure size 800x500 with 1 Axes>"
      ]
     },
     "metadata": {},
     "output_type": "display_data"
    }
   ],
   "source": [
    "def plot_result(img_path, gt_text, pred_text):\n",
    "    img = Image.open(img_path)\n",
    "    plt.figure(figsize=(8, 5))\n",
    "    plt.imshow(img)\n",
    "    plt.title(f\"GT: {gt_text}\\nPred: {pred_text}\")\n",
    "    plt.axis('off')\n",
    "    plt.show()\n",
    "\n",
    "for i in range(5):\n",
    "    plot_result(df.iloc[i]['image_path'], results[i][0], results[i][1])"
   ]
  },
  {
   "cell_type": "code",
   "execution_count": 27,
   "id": "4685de09-1076-42b6-848e-815aa8ddffa0",
   "metadata": {},
   "outputs": [],
   "source": [
    "pytesseract.pytesseract.tesseract_cmd = r\"C:\\Program Files\\Tesseract-OCR\\tesseract.exe\""
   ]
  },
  {
   "cell_type": "code",
   "execution_count": 28,
   "id": "04f574f1-2fdd-43c4-9552-8f9312e9ccd4",
   "metadata": {},
   "outputs": [
    {
     "name": "stdout",
     "output_type": "stream",
     "text": [
      "Defaulting to user installation because normal site-packages is not writeable\n",
      "Requirement already satisfied: easyocr in c:\\users\\91790\\appdata\\roaming\\python\\python313\\site-packages (1.7.2)\n",
      "Requirement already satisfied: torch in c:\\users\\91790\\appdata\\roaming\\python\\python313\\site-packages (from easyocr) (2.7.1)\n",
      "Requirement already satisfied: torchvision>=0.5 in c:\\users\\91790\\appdata\\roaming\\python\\python313\\site-packages (from easyocr) (0.22.1)\n",
      "Requirement already satisfied: opencv-python-headless in c:\\users\\91790\\appdata\\roaming\\python\\python313\\site-packages (from easyocr) (4.11.0.86)\n",
      "Requirement already satisfied: scipy in c:\\users\\91790\\appdata\\roaming\\python\\python313\\site-packages (from easyocr) (1.15.3)\n",
      "Requirement already satisfied: numpy in c:\\users\\91790\\appdata\\roaming\\python\\python313\\site-packages (from easyocr) (2.3.0)\n",
      "Requirement already satisfied: Pillow in c:\\users\\91790\\appdata\\roaming\\python\\python313\\site-packages (from easyocr) (11.2.1)\n",
      "Requirement already satisfied: scikit-image in c:\\users\\91790\\appdata\\roaming\\python\\python313\\site-packages (from easyocr) (0.25.2)\n",
      "Requirement already satisfied: python-bidi in c:\\users\\91790\\appdata\\roaming\\python\\python313\\site-packages (from easyocr) (0.6.6)\n",
      "Requirement already satisfied: PyYAML in c:\\users\\91790\\appdata\\roaming\\python\\python313\\site-packages (from easyocr) (6.0.2)\n",
      "Requirement already satisfied: Shapely in c:\\users\\91790\\appdata\\roaming\\python\\python313\\site-packages (from easyocr) (2.1.1)\n",
      "Requirement already satisfied: pyclipper in c:\\users\\91790\\appdata\\roaming\\python\\python313\\site-packages (from easyocr) (1.3.0.post6)\n",
      "Requirement already satisfied: ninja in c:\\users\\91790\\appdata\\roaming\\python\\python313\\site-packages (from easyocr) (1.11.1.4)\n",
      "Requirement already satisfied: filelock in c:\\users\\91790\\appdata\\roaming\\python\\python313\\site-packages (from torch->easyocr) (3.18.0)\n",
      "Requirement already satisfied: typing-extensions>=4.10.0 in c:\\users\\91790\\appdata\\roaming\\python\\python313\\site-packages (from torch->easyocr) (4.14.0)\n",
      "Requirement already satisfied: sympy>=1.13.3 in c:\\users\\91790\\appdata\\roaming\\python\\python313\\site-packages (from torch->easyocr) (1.14.0)\n",
      "Requirement already satisfied: networkx in c:\\users\\91790\\appdata\\roaming\\python\\python313\\site-packages (from torch->easyocr) (3.5)\n",
      "Requirement already satisfied: jinja2 in c:\\users\\91790\\appdata\\roaming\\python\\python313\\site-packages (from torch->easyocr) (3.1.5)\n",
      "Requirement already satisfied: fsspec in c:\\users\\91790\\appdata\\roaming\\python\\python313\\site-packages (from torch->easyocr) (2025.3.0)\n",
      "Requirement already satisfied: setuptools in c:\\users\\91790\\appdata\\roaming\\python\\python313\\site-packages (from torch->easyocr) (75.6.0)\n",
      "Requirement already satisfied: mpmath<1.4,>=1.1.0 in c:\\users\\91790\\appdata\\roaming\\python\\python313\\site-packages (from sympy>=1.13.3->torch->easyocr) (1.3.0)\n",
      "Requirement already satisfied: MarkupSafe>=2.0 in c:\\users\\91790\\appdata\\roaming\\python\\python313\\site-packages (from jinja2->torch->easyocr) (3.0.2)\n",
      "Requirement already satisfied: imageio!=2.35.0,>=2.33 in c:\\users\\91790\\appdata\\roaming\\python\\python313\\site-packages (from scikit-image->easyocr) (2.37.0)\n",
      "Requirement already satisfied: tifffile>=2022.8.12 in c:\\users\\91790\\appdata\\roaming\\python\\python313\\site-packages (from scikit-image->easyocr) (2025.6.11)\n",
      "Requirement already satisfied: packaging>=21 in c:\\users\\91790\\appdata\\roaming\\python\\python313\\site-packages (from scikit-image->easyocr) (24.2)\n",
      "Requirement already satisfied: lazy-loader>=0.4 in c:\\users\\91790\\appdata\\roaming\\python\\python313\\site-packages (from scikit-image->easyocr) (0.4)\n"
     ]
    }
   ],
   "source": [
    "!pip install easyocr\n"
   ]
  },
  {
   "cell_type": "code",
   "execution_count": 29,
   "id": "17906521-9f91-492e-a6d7-7f8f071aa870",
   "metadata": {},
   "outputs": [
    {
     "name": "stdout",
     "output_type": "stream",
     "text": [
      "EasyOCR version: 1.7.2\n"
     ]
    }
   ],
   "source": [
    "import easyocr\n",
    "print(\"EasyOCR version:\", easyocr.__version__)\n"
   ]
  },
  {
   "cell_type": "code",
   "execution_count": 30,
   "id": "71d4ed45-c5ea-4652-a851-b3411af3c4b8",
   "metadata": {},
   "outputs": [],
   "source": [
    "import easyocr\n",
    "import os\n",
    "import numpy as np\n",
    "import pandas as pd\n",
    "import scipy.io\n",
    "from tqdm import tqdm\n",
    "from PIL import Image, ImageFilter, ImageEnhance, ImageOps\n",
    "import matplotlib.pyplot as plt\n",
    "from Levenshtein import distance as lev_dist\n"
   ]
  },
  {
   "cell_type": "code",
   "execution_count": 31,
   "id": "38837e1b-d615-42fb-85b4-c331cf6cf49d",
   "metadata": {},
   "outputs": [
    {
     "name": "stdout",
     "output_type": "stream",
     "text": [
      "         image_name     text  \\\n",
      "0  train/1009_2.png      YOU   \n",
      "1  train/1017_1.png   RESCUE   \n",
      "2  train/1017_2.png  MISSION   \n",
      "3  train/1021_1.png     HOME   \n",
      "4  train/1023_1.png   BORDER   \n",
      "\n",
      "                                          image_path  \n",
      "0  C:\\Users\\91790\\OneDrive\\Desktop\\OCR_Project\\II...  \n",
      "1  C:\\Users\\91790\\OneDrive\\Desktop\\OCR_Project\\II...  \n",
      "2  C:\\Users\\91790\\OneDrive\\Desktop\\OCR_Project\\II...  \n",
      "3  C:\\Users\\91790\\OneDrive\\Desktop\\OCR_Project\\II...  \n",
      "4  C:\\Users\\91790\\OneDrive\\Desktop\\OCR_Project\\II...  \n"
     ]
    }
   ],
   "source": [
    "dataset_path = r\"C:\\Users\\91790\\OneDrive\\Desktop\\OCR_Project\\IIIT5K-Word_V3.0\\IIIT5K\"\n",
    "mat_path = os.path.join(dataset_path, \"traindata.mat\")\n",
    "data = scipy.io.loadmat(mat_path)\n",
    "entries = data['traindata'][0]\n",
    "\n",
    "image_names = [entry['ImgName'][0] for entry in entries]\n",
    "ground_truths = [entry['GroundTruth'][0] for entry in entries]\n",
    "\n",
    "df = pd.DataFrame({'image_name': image_names, 'text': ground_truths})\n",
    "df['image_path'] = df['image_name'].apply(lambda x: os.path.join(dataset_path, x))\n",
    "\n",
    "print(df.head())\n"
   ]
  },
  {
   "cell_type": "code",
   "execution_count": 32,
   "id": "ad1a79df-f2c4-4f2d-aab7-c4c4f3d6e385",
   "metadata": {},
   "outputs": [],
   "source": [
    "def preprocess_image(image_path):\n",
    "    img = Image.open(image_path).convert('L')\n",
    "    img = ImageOps.invert(img)\n",
    "    img = img.filter(ImageFilter.MedianFilter())\n",
    "    img = ImageEnhance.Contrast(img).enhance(2.0)\n",
    "    img = ImageEnhance.Sharpness(img).enhance(2.0)\n",
    "    return img\n"
   ]
  },
  {
   "cell_type": "code",
   "execution_count": 33,
   "id": "b40273c2-4aa1-4d6e-a811-014ad2b9ea8b",
   "metadata": {},
   "outputs": [
    {
     "name": "stdout",
     "output_type": "stream",
     "text": [
      "❌ EasyOCR model files missing: craft_mlt_25k.pth, english_g2.pth\n",
      "Place the following in: C:\\Users\\91790\\OneDrive\\Desktop\\OCR_Project\\IIIT5K-Word_V3.0\\IIIT5K\\easyocr_models\n",
      "- craft_mlt_25k.pth\n",
      "- english_g2.pth\n",
      "Download from:\n",
      "https://www.jaided.ai/easyocr/modelhub/craft_mlt_25k.pth\n",
      "https://www.jaided.ai/easyocr/modelhub/english_g2.pth\n"
     ]
    }
   ],
   "source": [
    "model_dir = os.path.join(dataset_path, \"easyocr_models\")\n",
    "os.makedirs(model_dir, exist_ok=True)\n",
    "\n",
    "required_files = [\"craft_mlt_25k.pth\", \"english_g2.pth\"]\n",
    "missing_files = [f for f in required_files if not os.path.isfile(os.path.join(model_dir, f))]\n",
    "\n",
    "if missing_files:\n",
    "    print(\"❌ EasyOCR model files missing:\", ', '.join(missing_files))\n",
    "    print(\"Place the following in:\", model_dir)\n",
    "    print(\"- craft_mlt_25k.pth\")\n",
    "    print(\"- english_g2.pth\")\n",
    "    print(\"Download from:\")\n",
    "    print(\"https://www.jaided.ai/easyocr/modelhub/craft_mlt_25k.pth\")\n",
    "    print(\"https://www.jaided.ai/easyocr/modelhub/english_g2.pth\")\n",
    "    reader = None\n",
    "else:\n",
    "    reader = easyocr.Reader(['en'], gpu=False, model_storage_directory=model_dir, download_enabled=False)\n",
    "\n"
   ]
  },
  {
   "cell_type": "code",
   "execution_count": 34,
   "id": "d3e9cae0-d9f8-4d26-8379-aef3b8e5e4d7",
   "metadata": {},
   "outputs": [
    {
     "name": "stderr",
     "output_type": "stream",
     "text": [
      "Using CPU. Note: This module is much faster with a GPU.\n"
     ]
    },
    {
     "name": "stdout",
     "output_type": "stream",
     "text": [
      "✅ EasyOCR initialized successfully in offline mode.\n"
     ]
    }
   ],
   "source": [
    "import easyocr\n",
    "\n",
    "# Updated model directory path\n",
    "model_dir = r\"C:\\Users\\91790\\OneDrive\\Desktop\\OCR_Project\\easyocr_models\"\n",
    "\n",
    "# Initialize EasyOCR Reader with offline model location\n",
    "reader = easyocr.Reader(\n",
    "    ['en'],\n",
    "    gpu=False,\n",
    "    model_storage_directory=model_dir,\n",
    "    download_enabled=False\n",
    ")\n",
    "\n",
    "print(\"✅ EasyOCR initialized successfully in offline mode.\")\n"
   ]
  },
  {
   "cell_type": "code",
   "execution_count": 35,
   "id": "cc481fa4-8b4a-4b64-a52c-2aa1cd2cad7c",
   "metadata": {},
   "outputs": [],
   "source": [
    "import numpy as np\n",
    "import pandas as pd\n",
    "import scipy.io\n",
    "from PIL import Image, ImageFilter, ImageEnhance, ImageOps\n",
    "import matplotlib.pyplot as plt\n",
    "from tqdm import tqdm\n",
    "from Levenshtein import distance as lev_dist\n",
    "\n",
    "# Your dataset location\n",
    "dataset_path = r\"C:\\Users\\91790\\OneDrive\\Desktop\\OCR_Project\\IIIT5K-Word_V3.0\\IIIT5K\"\n",
    "mat_path = os.path.join(dataset_path, \"traindata.mat\")\n",
    "\n",
    "# Load .mat file\n",
    "data = scipy.io.loadmat(mat_path)\n",
    "entries = data['traindata'][0]\n",
    "\n",
    "# Create DataFrame with image paths and ground truths\n",
    "image_names = [entry['ImgName'][0] for entry in entries]\n",
    "ground_truths = [entry['GroundTruth'][0] for entry in entries]\n",
    "df = pd.DataFrame({'image_name': image_names, 'text': ground_truths})\n",
    "df['image_path'] = df['image_name'].apply(lambda x: os.path.join(dataset_path, x))\n",
    "\n",
    "# Preprocessing\n",
    "def preprocess_image(image_path):\n",
    "    img = Image.open(image_path).convert('L')  # grayscale\n",
    "    img = ImageOps.invert(img)  # invert\n",
    "    img = img.filter(ImageFilter.MedianFilter())\n",
    "    img = ImageEnhance.Contrast(img).enhance(2.0)\n",
    "    img = ImageEnhance.Sharpness(img).enhance(2.0)\n",
    "    return img\n"
   ]
  },
  {
   "cell_type": "code",
   "execution_count": 36,
   "id": "964f2dbb-f984-4591-9c7b-531e17104886",
   "metadata": {},
   "outputs": [],
   "source": [
    "def accuracy(gt, pred):\n",
    "    if not pred.strip(): return 0\n",
    "    return 1 - lev_dist(gt.lower(), pred.lower()) / max(len(gt), len(pred))\n"
   ]
  },
  {
   "cell_type": "code",
   "execution_count": 37,
   "id": "a3ed3af5-6b2a-42c3-b7a1-471d879847fe",
   "metadata": {},
   "outputs": [
    {
     "name": "stderr",
     "output_type": "stream",
     "text": [
      "  0%|                                                                                           | 0/25 [00:00<?, ?it/s]C:\\Users\\91790\\AppData\\Roaming\\Python\\Python313\\site-packages\\torch\\utils\\data\\dataloader.py:665: UserWarning: 'pin_memory' argument is set as true but no accelerator is found, then device pinned memory won't be used.\n",
      "  warnings.warn(warn_msg)\n",
      "100%|██████████████████████████████████████████████████████████████████████████████████| 25/25 [00:05<00:00,  4.61it/s]"
     ]
    },
    {
     "name": "stdout",
     "output_type": "stream",
     "text": [
      "\n",
      "✅ EasyOCR Accuracy on 25 images: 0.77\n"
     ]
    },
    {
     "name": "stderr",
     "output_type": "stream",
     "text": [
      "\n"
     ]
    }
   ],
   "source": [
    "results = []\n",
    "\n",
    "for i in tqdm(range(25)):  # Use len(df) for full dataset\n",
    "    img_path = df.iloc[i]['image_path']\n",
    "    gt = df.iloc[i]['text']\n",
    "    \n",
    "    try:\n",
    "        img = preprocess_image(img_path)\n",
    "        preds = reader.readtext(np.array(img), detail=0, paragraph=True)\n",
    "        pred_text = ' '.join(preds) if isinstance(preds, list) else preds\n",
    "        acc = accuracy(gt, pred_text)\n",
    "        results.append((gt, pred_text, acc))\n",
    "    except Exception as e:\n",
    "        print(f\"Error on image {i}: {e}\")\n",
    "        results.append((gt, '', 0))\n",
    "\n",
    "# Average accuracy\n",
    "avg_acc = np.mean([r[2] for r in results])\n",
    "print(f\"\\n✅ EasyOCR Accuracy on 25 images: {avg_acc:.2f}\")\n"
   ]
  },
  {
   "cell_type": "code",
   "execution_count": 38,
   "id": "7c03fc4c-d81f-40cd-94a7-b3639bfc863b",
   "metadata": {},
   "outputs": [
    {
     "data": {
      "image/png": "[encoded data removed]",
      "text/plain": [
       "<Figure size 800x400 with 1 Axes>"
      ]
     },
     "metadata": {},
     "output_type": "display_data"
    },
    {
     "data": {
      "image/png": "[encoded data removed]",
      "text/plain": [
       "<Figure size 800x400 with 1 Axes>"
      ]
     },
     "metadata": {},
     "output_type": "display_data"
    },
    {
     "data": {
      "image/png": "[encoded data removed]",
      "text/plain": [
       "<Figure size 800x400 with 1 Axes>"
      ]
     },
     "metadata": {},
     "output_type": "display_data"
    },
    {
     "data": {
      "image/png": "[encoded data removed]",
      "text/plain": [
       "<Figure size 800x400 with 1 Axes>"
      ]
     },
     "metadata": {},
     "output_type": "display_data"
    },
    {
     "data": {
      "image/png": "[encoded data removed]",
      "text/plain": [
       "<Figure size 800x400 with 1 Axes>"
      ]
     },
     "metadata": {},
     "output_type": "display_data"
    }
   ],
   "source": [
    "for i in range(5):  # Visualize 5 examples\n",
    "    img = preprocess_image(df.iloc[i]['image_path'])\n",
    "    plt.figure(figsize=(8, 4))\n",
    "    plt.imshow(img, cmap='gray')\n",
    "    plt.title(f\"GT: {results[i][0]}\\nPred: {results[i][1]}\")\n",
    "    plt.axis('off')\n",
    "    plt.show()\n"
   ]
  },
  {
   "cell_type": "code",
   "execution_count": 39,
   "id": "4d3332fc-28da-421e-ac51-31062c59c24f",
   "metadata": {},
   "outputs": [
    {
     "name": "stdout",
     "output_type": "stream",
     "text": [
      "Defaulting to user installation because normal site-packages is not writeable\n",
      "Requirement already satisfied: torch in c:\\users\\91790\\appdata\\roaming\\python\\python313\\site-packages (2.7.1)\n",
      "Requirement already satisfied: filelock in c:\\users\\91790\\appdata\\roaming\\python\\python313\\site-packages (from torch) (3.18.0)\n",
      "Requirement already satisfied: typing-extensions>=4.10.0 in c:\\users\\91790\\appdata\\roaming\\python\\python313\\site-packages (from torch) (4.14.0)\n",
      "Requirement already satisfied: sympy>=1.13.3 in c:\\users\\91790\\appdata\\roaming\\python\\python313\\site-packages (from torch) (1.14.0)\n",
      "Requirement already satisfied: networkx in c:\\users\\91790\\appdata\\roaming\\python\\python313\\site-packages (from torch) (3.5)\n",
      "Requirement already satisfied: jinja2 in c:\\users\\91790\\appdata\\roaming\\python\\python313\\site-packages (from torch) (3.1.5)\n",
      "Requirement already satisfied: fsspec in c:\\users\\91790\\appdata\\roaming\\python\\python313\\site-packages (from torch) (2025.3.0)\n",
      "Requirement already satisfied: setuptools in c:\\users\\91790\\appdata\\roaming\\python\\python313\\site-packages (from torch) (75.6.0)\n",
      "Requirement already satisfied: mpmath<1.4,>=1.1.0 in c:\\users\\91790\\appdata\\roaming\\python\\python313\\site-packages (from sympy>=1.13.3->torch) (1.3.0)\n",
      "Requirement already satisfied: MarkupSafe>=2.0 in c:\\users\\91790\\appdata\\roaming\\python\\python313\\site-packages (from jinja2->torch) (3.0.2)\n",
      "Defaulting to user installation because normal site-packages is not writeable\n",
      "Collecting lmdb\n",
      "  Downloading lmdb-1.6.2-cp313-cp313-win_amd64.whl.metadata (1.1 kB)\n",
      "Requirement already satisfied: pillow in c:\\users\\91790\\appdata\\roaming\\python\\python313\\site-packages (11.2.1)\n",
      "Requirement already satisfied: torchvision in c:\\users\\91790\\appdata\\roaming\\python\\python313\\site-packages (0.22.1)\n",
      "Collecting nltk\n",
      "  Downloading nltk-3.9.1-py3-none-any.whl.metadata (2.9 kB)\n",
      "Collecting natsort\n",
      "  Downloading natsort-8.4.0-py3-none-any.whl.metadata (21 kB)\n",
      "Requirement already satisfied: numpy in c:\\users\\91790\\appdata\\roaming\\python\\python313\\site-packages (from torchvision) (2.3.0)\n",
      "Requirement already satisfied: torch==2.7.1 in c:\\users\\91790\\appdata\\roaming\\python\\python313\\site-packages (from torchvision) (2.7.1)\n",
      "Requirement already satisfied: filelock in c:\\users\\91790\\appdata\\roaming\\python\\python313\\site-packages (from torch==2.7.1->torchvision) (3.18.0)\n",
      "Requirement already satisfied: typing-extensions>=4.10.0 in c:\\users\\91790\\appdata\\roaming\\python\\python313\\site-packages (from torch==2.7.1->torchvision) (4.14.0)\n",
      "Requirement already satisfied: sympy>=1.13.3 in c:\\users\\91790\\appdata\\roaming\\python\\python313\\site-packages (from torch==2.7.1->torchvision) (1.14.0)\n",
      "Requirement already satisfied: networkx in c:\\users\\91790\\appdata\\roaming\\python\\python313\\site-packages (from torch==2.7.1->torchvision) (3.5)\n",
      "Requirement already satisfied: jinja2 in c:\\users\\91790\\appdata\\roaming\\python\\python313\\site-packages (from torch==2.7.1->torchvision) (3.1.5)\n",
      "Requirement already satisfied: fsspec in c:\\users\\91790\\appdata\\roaming\\python\\python313\\site-packages (from torch==2.7.1->torchvision) (2025.3.0)\n",
      "Requirement already satisfied: setuptools in c:\\users\\91790\\appdata\\roaming\\python\\python313\\site-packages (from torch==2.7.1->torchvision) (75.6.0)\n",
      "Requirement already satisfied: click in c:\\users\\91790\\appdata\\roaming\\python\\python313\\site-packages (from nltk) (8.2.1)\n",
      "Requirement already satisfied: joblib in c:\\users\\91790\\appdata\\roaming\\python\\python313\\site-packages (from nltk) (1.5.1)\n",
      "Requirement already satisfied: regex>=2021.8.3 in c:\\users\\91790\\appdata\\roaming\\python\\python313\\site-packages (from nltk) (2024.11.6)\n",
      "Requirement already satisfied: tqdm in c:\\users\\91790\\appdata\\roaming\\python\\python313\\site-packages (from nltk) (4.67.1)\n",
      "Requirement already satisfied: mpmath<1.4,>=1.1.0 in c:\\users\\91790\\appdata\\roaming\\python\\python313\\site-packages (from sympy>=1.13.3->torch==2.7.1->torchvision) (1.3.0)\n",
      "Requirement already satisfied: colorama in c:\\users\\91790\\appdata\\roaming\\python\\python313\\site-packages (from click->nltk) (0.4.6)\n",
      "Requirement already satisfied: MarkupSafe>=2.0 in c:\\users\\91790\\appdata\\roaming\\python\\python313\\site-packages (from jinja2->torch==2.7.1->torchvision) (3.0.2)\n",
      "Downloading lmdb-1.6.2-cp313-cp313-win_amd64.whl (100 kB)\n",
      "Downloading nltk-3.9.1-py3-none-any.whl (1.5 MB)\n",
      "   ---------------------------------------- 0.0/1.5 MB ? eta -:--:--\n",
      "   ------ --------------------------------- 0.3/1.5 MB ? eta -:--:--\n",
      "   -------------------- ------------------- 0.8/1.5 MB 2.4 MB/s eta 0:00:01\n",
      "   ---------------------------------- ----- 1.3/1.5 MB 2.4 MB/s eta 0:00:01\n",
      "   ---------------------------------------- 1.5/1.5 MB 2.3 MB/s eta 0:00:00\n",
      "Downloading natsort-8.4.0-py3-none-any.whl (38 kB)\n",
      "Installing collected packages: lmdb, natsort, nltk\n",
      "\n",
      "   ---------------------------------------- 0/3 [lmdb]\n",
      "   ------------- -------------------------- 1/3 [natsort]\n",
      "   ------------- -------------------------- 1/3 [natsort]\n",
      "   -------------------------- ------------- 2/3 [nltk]\n",
      "   -------------------------- ------------- 2/3 [nltk]\n",
      "   -------------------------- ------------- 2/3 [nltk]\n",
      "   -------------------------- ------------- 2/3 [nltk]\n",
      "   -------------------------- ------------- 2/3 [nltk]\n",
      "   -------------------------- ------------- 2/3 [nltk]\n",
      "   -------------------------- ------------- 2/3 [nltk]\n",
      "   -------------------------- ------------- 2/3 [nltk]\n",
      "   -------------------------- ------------- 2/3 [nltk]\n",
      "   -------------------------- ------------- 2/3 [nltk]\n",
      "   -------------------------- ------------- 2/3 [nltk]\n",
      "   -------------------------- ------------- 2/3 [nltk]\n",
      "   -------------------------- ------------- 2/3 [nltk]\n",
      "   -------------------------- ------------- 2/3 [nltk]\n",
      "   -------------------------- ------------- 2/3 [nltk]\n",
      "   -------------------------- ------------- 2/3 [nltk]\n",
      "   -------------------------- ------------- 2/3 [nltk]\n",
      "   -------------------------- ------------- 2/3 [nltk]\n",
      "   -------------------------- ------------- 2/3 [nltk]\n",
      "   -------------------------- ------------- 2/3 [nltk]\n",
      "   -------------------------- ------------- 2/3 [nltk]\n",
      "   -------------------------- ------------- 2/3 [nltk]\n",
      "   -------------------------- ------------- 2/3 [nltk]\n",
      "   -------------------------- ------------- 2/3 [nltk]\n",
      "   -------------------------- ------------- 2/3 [nltk]\n",
      "   -------------------------- ------------- 2/3 [nltk]\n",
      "   -------------------------- ------------- 2/3 [nltk]\n",
      "   -------------------------- ------------- 2/3 [nltk]\n",
      "   -------------------------- ------------- 2/3 [nltk]\n",
      "   -------------------------- ------------- 2/3 [nltk]\n",
      "   -------------------------- ------------- 2/3 [nltk]\n",
      "   -------------------------- ------------- 2/3 [nltk]\n",
      "   -------------------------- ------------- 2/3 [nltk]\n",
      "   -------------------------- ------------- 2/3 [nltk]\n",
      "   -------------------------- ------------- 2/3 [nltk]\n",
      "   -------------------------- ------------- 2/3 [nltk]\n",
      "   -------------------------- ------------- 2/3 [nltk]\n",
      "   -------------------------- ------------- 2/3 [nltk]\n",
      "   -------------------------- ------------- 2/3 [nltk]\n",
      "   -------------------------- ------------- 2/3 [nltk]\n",
      "   -------------------------- ------------- 2/3 [nltk]\n",
      "   -------------------------- ------------- 2/3 [nltk]\n",
      "   -------------------------- ------------- 2/3 [nltk]\n",
      "   -------------------------- ------------- 2/3 [nltk]\n",
      "   -------------------------- ------------- 2/3 [nltk]\n",
      "   -------------------------- ------------- 2/3 [nltk]\n",
      "   -------------------------- ------------- 2/3 [nltk]\n",
      "   -------------------------- ------------- 2/3 [nltk]\n",
      "   -------------------------- ------------- 2/3 [nltk]\n",
      "   -------------------------- ------------- 2/3 [nltk]\n",
      "   -------------------------- ------------- 2/3 [nltk]\n",
      "   -------------------------- ------------- 2/3 [nltk]\n",
      "   -------------------------- ------------- 2/3 [nltk]\n",
      "   -------------------------- ------------- 2/3 [nltk]\n",
      "   -------------------------- ------------- 2/3 [nltk]\n",
      "   -------------------------- ------------- 2/3 [nltk]\n",
      "   ---------------------------------------- 3/3 [nltk]\n",
      "\n",
      "Successfully installed lmdb-1.6.2 natsort-8.4.0 nltk-3.9.1\n",
      "Defaulting to user installation because normal site-packages is not writeable\n",
      "Collecting gdown\n",
      "  Downloading gdown-5.2.0-py3-none-any.whl.metadata (5.8 kB)\n",
      "Requirement already satisfied: beautifulsoup4 in c:\\users\\91790\\appdata\\roaming\\python\\python313\\site-packages (from gdown) (4.12.3)\n",
      "Requirement already satisfied: filelock in c:\\users\\91790\\appdata\\roaming\\python\\python313\\site-packages (from gdown) (3.18.0)\n",
      "Requirement already satisfied: requests[socks] in c:\\users\\91790\\appdata\\roaming\\python\\python313\\site-packages (from gdown) (2.32.3)\n",
      "Requirement already satisfied: tqdm in c:\\users\\91790\\appdata\\roaming\\python\\python313\\site-packages (from gdown) (4.67.1)\n",
      "Requirement already satisfied: soupsieve>1.2 in c:\\users\\91790\\appdata\\roaming\\python\\python313\\site-packages (from beautifulsoup4->gdown) (2.6)\n",
      "Requirement already satisfied: charset-normalizer<4,>=2 in c:\\users\\91790\\appdata\\roaming\\python\\python313\\site-packages (from requests[socks]->gdown) (3.4.1)\n",
      "Requirement already satisfied: idna<4,>=2.5 in c:\\users\\91790\\appdata\\roaming\\python\\python313\\site-packages (from requests[socks]->gdown) (3.10)\n",
      "Requirement already satisfied: urllib3<3,>=1.21.1 in c:\\users\\91790\\appdata\\roaming\\python\\python313\\site-packages (from requests[socks]->gdown) (2.3.0)\n",
      "Requirement already satisfied: certifi>=2017.4.17 in c:\\users\\91790\\appdata\\roaming\\python\\python313\\site-packages (from requests[socks]->gdown) (2024.12.14)\n",
      "Collecting PySocks!=1.5.7,>=1.5.6 (from requests[socks]->gdown)\n",
      "  Downloading PySocks-1.7.1-py3-none-any.whl.metadata (13 kB)\n",
      "Requirement already satisfied: colorama in c:\\users\\91790\\appdata\\roaming\\python\\python313\\site-packages (from tqdm->gdown) (0.4.6)\n",
      "Downloading gdown-5.2.0-py3-none-any.whl (18 kB)\n",
      "Downloading PySocks-1.7.1-py3-none-any.whl (16 kB)\n",
      "Installing collected packages: PySocks, gdown\n",
      "\n",
      "   -------------------- ------------------- 1/2 [gdown]\n",
      "   -------------------- ------------------- 1/2 [gdown]\n",
      "   ---------------------------------------- 2/2 [gdown]\n",
      "\n",
      "Successfully installed PySocks-1.7.1 gdown-5.2.0\n"
     ]
    }
   ],
   "source": [
    "!pip3 install torch\n",
    "!pip3 install lmdb pillow torchvision nltk natsort\n",
    "!pip3 install gdown"
   ]
  },
  {
   "cell_type": "code",
   "execution_count": 40,
   "id": "af81a039-66b7-4df0-a320-edffad8e79d4",
   "metadata": {},
   "outputs": [
    {
     "name": "stdout",
     "output_type": "stream",
     "text": [
      "Done!\n"
     ]
    }
   ],
   "source": [
    "# Define inputs\n",
    "test=\"/kaggle/input/iiit5k-words/IIIT5K-Word_V3.0/IIIT5K/test\"\n",
    "train=\"/kaggle/input/iiit5k-words/IIIT5K-Word_V3.0/IIIT5K/train\"\n",
    "print(\"Done!\")"
   ]
  },
  {
   "cell_type": "code",
   "execution_count": 41,
   "id": "e171a0fa-328f-4b9b-a7d4-ae9c91748e86",
   "metadata": {},
   "outputs": [
    {
     "name": "stdout",
     "output_type": "stream",
     "text": [
      "Done!\n"
     ]
    }
   ],
   "source": [
    "# Downloading model repository\n",
    "import os\n",
    "import time\n",
    "import sys\n",
    "from os.path import exists, join, basename, splitext\n",
    "\n",
    "git_repo_url = 'https://github.com/clovaai/deep-text-recognition-benchmark.git'\n",
    "project_name = splitext(basename(git_repo_url))[0]\n",
    "\n",
    "# Check if the project directory already exists\n",
    "if not exists(project_name):\n",
    "    # Clone the Git repository\n",
    "    os.system(f'git clone  {git_repo_url}')\n",
    "  \n",
    "# Add the project directory to the system path\n",
    "sys.path.append(project_name)\n",
    "print(\"Done!\")"
   ]
  },
  {
   "cell_type": "code",
   "execution_count": 42,
   "id": "4922f4fc-1525-4d1f-a136-3dab37a4e764",
   "metadata": {},
   "outputs": [
    {
     "name": "stderr",
     "output_type": "stream",
     "text": [
      "Downloading...\n",
      "From (original): https://drive.google.com/uc?id=1b59rXuGGmKne1AuHnkgDzoYgKeETNMv9\n",
      "From (redirected): https://drive.google.com/uc?id=1b59rXuGGmKne1AuHnkgDzoYgKeETNMv9&confirm=t&uuid=c5306c32-fe4b-4aa3-b26d-aa8562587249\n",
      "To: C:\\Users\\91790\\OneDrive\\Desktop\\OCR_Project\\pretrained_model\\TPS-ResNet-BiLSTM-Attn.pth\n",
      "100%|███████████████████████████████████████████████████████████████████████████████| 199M/199M [01:51<00:00, 1.77MB/s]\n",
      "Downloading...\n",
      "From (original): https://drive.google.com/uc?id=1ajONZOgiG9pEYsQ-eBmgkVbMDuHgPCaY\n",
      "From (redirected): https://drive.google.com/uc?id=1ajONZOgiG9pEYsQ-eBmgkVbMDuHgPCaY&confirm=t&uuid=df66ff3d-a5a6-494e-8ded-9cc5c1f84be2\n",
      "To: C:\\Users\\91790\\OneDrive\\Desktop\\OCR_Project\\pretrained_model\\TPS-ResNet-BiLSTM-Attn-case-sensitive.pth\n",
      "100%|███████████████████████████████████████████████████████████████████████████████| 199M/199M [01:46<00:00, 1.87MB/s]\n"
     ]
    }
   ],
   "source": [
    "# Downloading Pretrained models\n",
    "import os\n",
    "import gdown\n",
    "\n",
    "pretrained_model_path = \"./pretrained_model/\"\n",
    "\n",
    "# Create the directory if it doesn't exist\n",
    "if not os.path.exists(pretrained_model_path):\n",
    "    os.makedirs(pretrained_model_path)\n",
    "\n",
    "# List of tuples containing the filename and file ID from Google Drive\n",
    "links = [\n",
    "    # Best Accuracy, Note you need to modify model architecture for it\n",
    "    (\"TPS-ResNet-BiLSTM-Attn.pth\", \"1b59rXuGGmKne1AuHnkgDzoYgKeETNMv9\"),\n",
    "    # Best For Case Sensitive\n",
    "    (\"TPS-ResNet-BiLSTM-Attn-case-sensitive.pth\", \"1ajONZOgiG9pEYsQ-eBmgkVbMDuHgPCaY\")\n",
    "]\n",
    "\n",
    "# Loop over each item in the links list\n",
    "for counter, item in enumerate(links):\n",
    "    filename = item[0]\n",
    "    fileid = item[1]\n",
    "\n",
    "    # Generate the download link using the file ID\n",
    "    download_link = f\"https://drive.google.com/uc?id={fileid}\"\n",
    "\n",
    "    # Set the output file path\n",
    "    file_path = os.path.join(pretrained_model_path, filename)\n",
    "\n",
    "    # Download the file using gdown\n",
    "    gdown.download(download_link, file_path, quiet=False)"
   ]
  },
  {
   "cell_type": "code",
   "execution_count": 43,
   "id": "a83c195c-cf11-4362-88ad-bc3e94f99791",
   "metadata": {},
   "outputs": [
    {
     "ename": "ModuleNotFoundError",
     "evalue": "No module named 'utils'",
     "output_type": "error",
     "traceback": [
      "\u001b[1;31m---------------------------------------------------------------------------\u001b[0m",
      "\u001b[1;31mModuleNotFoundError\u001b[0m                       Traceback (most recent call last)",
      "Cell \u001b[1;32mIn[43], line 13\u001b[0m\n\u001b[0;32m     10\u001b[0m \u001b[38;5;28;01mimport\u001b[39;00m \u001b[38;5;21;01mnumpy\u001b[39;00m \u001b[38;5;28;01mas\u001b[39;00m \u001b[38;5;21;01mnp\u001b[39;00m\n\u001b[0;32m     11\u001b[0m \u001b[38;5;28;01mfrom\u001b[39;00m \u001b[38;5;21;01mnltk\u001b[39;00m\u001b[38;5;21;01m.\u001b[39;00m\u001b[38;5;21;01mmetrics\u001b[39;00m\u001b[38;5;21;01m.\u001b[39;00m\u001b[38;5;21;01mdistance\u001b[39;00m \u001b[38;5;28;01mimport\u001b[39;00m edit_distance\n\u001b[1;32m---> 13\u001b[0m \u001b[38;5;28;01mfrom\u001b[39;00m \u001b[38;5;21;01mutils\u001b[39;00m \u001b[38;5;28;01mimport\u001b[39;00m CTCLabelConverter, AttnLabelConverter, Averager\n\u001b[0;32m     14\u001b[0m \u001b[38;5;28;01mfrom\u001b[39;00m \u001b[38;5;21;01mdataset\u001b[39;00m \u001b[38;5;28;01mimport\u001b[39;00m hierarchical_dataset, AlignCollate\n\u001b[0;32m     15\u001b[0m \u001b[38;5;28;01mfrom\u001b[39;00m \u001b[38;5;21;01mmodel\u001b[39;00m \u001b[38;5;28;01mimport\u001b[39;00m Model\n",
      "\u001b[1;31mModuleNotFoundError\u001b[0m: No module named 'utils'"
     ]
    }
   ],
   "source": [
    "# Importing deps\n",
    "import os\n",
    "import time\n",
    "import string\n",
    "import argparse\n",
    "\n",
    "import torch\n",
    "import torch.backends.cudnn as cudnn\n",
    "import torch.utils.data\n",
    "import numpy as np\n",
    "from nltk.metrics.distance import edit_distance\n",
    "\n",
    "from utils import CTCLabelConverter, AttnLabelConverter, Averager\n",
    "from dataset import hierarchical_dataset, AlignCollate\n",
    "from model import Model\n",
    "print(\"Done!\")"
   ]
  },
  {
   "cell_type": "code",
   "execution_count": null,
   "id": "de3c1390-7d64-4c03-a9bd-f2e4d50a178a",
   "metadata": {},
   "outputs": [],
   "source": [
    "# Defining Model Architecture\n",
    "!export CUDA_VISIBLE_DEVICES=0\n",
    "parser = argparse.Namespace()\n",
    "parser.eval_data=True\n",
    "parser.benchmark_all_eval='store_true'\n",
    "parser.workers=4\n",
    "parser.batch_size=192\n",
    "parser.saved_model='./pretrained_model/TPS-ResNet-BiLSTM-Attn-case-sensitive.pth'\n",
    "# parser.saved_model='./pretrained_model/TPS-ResNet-BiLSTM-Attn.pth'\n",
    "\n",
    "\"\"\" Data processing \"\"\"\n",
    "parser.batch_max_length=25\n",
    "parser.imgH=32\n",
    "parser.imgW=100\n",
    "parser.rgb='store_true'\n",
    "parser.character='0123456789abcdefghijklmnopqrstuvwxyz'\n",
    "parser.sensitive='store_true'\n",
    "parser.PAD='store_true'\n",
    "\n",
    "\"\"\" Model Architecture \"\"\"\n",
    "parser.Transformation='TPS'\n",
    "parser.FeatureExtraction='ResNet'\n",
    "parser.SequenceModeling='BiLSTM'\n",
    "parser.Prediction='Attn'\n",
    "parser.num_fiducial=20\n",
    "parser.input_channel=1\n",
    "parser.output_channel=512\n",
    "parser.hidden_size=256\n",
    "parser.num_gpu=0\n",
    "\n",
    "opt = parser\n",
    "print(opt)\n",
    "\n",
    "\"\"\" vocab / character number configuration \"\"\"\n",
    "opt.character = string.printable[:-6]  # same with ASTER setting (use 94 char).\n",
    "\n",
    "cudnn.benchmark = True\n",
    "cudnn.deterministic = True\n",
    "opt.num_gpu = torch.cuda.device_count()\n",
    "\n",
    "print(opt.character)"
   ]
  },
  {
   "cell_type": "code",
   "execution_count": null,
   "id": "7e54b623-179a-4c58-9835-1e65b2f59dda",
   "metadata": {},
   "outputs": [],
   "source": [
    "# If CTC is present we will use CTC otherwise Attention label Converter\n",
    "if 'CTC' in opt.Prediction:\n",
    "    converter = CTCLabelConverter(opt.character)\n",
    "else:\n",
    "    converter = AttnLabelConverter(opt.character)\n",
    "opt.num_class = len(converter.character)\n",
    "\n",
    "print(\"Done!\")"
   ]
  },
  {
   "cell_type": "code",
   "execution_count": null,
   "id": "07a9875a-47db-4950-b2f6-a2972d567c2e",
   "metadata": {},
   "outputs": [],
   "source": [
    "# Initializing Model\n",
    "opt.input_channel = 1\n",
    "model = Model(opt)\n",
    "print('model input parameters', opt.imgH, opt.imgW, opt.num_fiducial, opt.input_channel, opt.output_channel,\n",
    "      opt.hidden_size, opt.num_class, opt.batch_max_length, opt.Transformation, opt.FeatureExtraction,\n",
    "      opt.SequenceModeling, opt.Prediction)\n",
    "try:\n",
    "  model = torch.nn.DataParallel(model).cuda()\n",
    "except:\n",
    "  model = torch.nn.DataParallel(model)  # Remove .cuda()\n",
    "  map_location=torch.device('cpu')"
   ]
  },
  {
   "cell_type": "code",
   "execution_count": null,
   "id": "b904d0e9-0c5c-4197-adf6-b3846aceaa40",
   "metadata": {},
   "outputs": [],
   "source": [
    "print('loading pretrained model from %s' % opt.saved_model)"
   ]
  },
  {
   "cell_type": "code",
   "execution_count": null,
   "id": "687570f2-0a08-43d1-b1a1-0c4d0570bbef",
   "metadata": {},
   "outputs": [],
   "source": [
    "# Loading the model\n",
    "print('loading pretrained model from %s' % opt.saved_model)\n",
    "try:\n",
    "  model.load_state_dict(torch.load(opt.saved_model))\n",
    "except:\n",
    "  model.load_state_dict(torch.load(opt.saved_model, map_location=torch.device('cpu')))\n",
    "opt.experiment_name = '_'.join(opt.saved_model.split('/')[1:])"
   ]
  },
  {
   "cell_type": "code",
   "execution_count": null,
   "id": "bc996ef2-92be-40aa-9078-afa5f9946dcc",
   "metadata": {},
   "outputs": [],
   "source": [
    "os.makedirs(f'./result/{opt.experiment_name}', exist_ok=True)\n",
    "os.system(f'cp {opt.saved_model} ./result/{opt.experiment_name}/')"
   ]
  },
  {
   "cell_type": "code",
   "execution_count": null,
   "id": "654b2e0f-0262-4ab8-90a9-8679a4d0d1ba",
   "metadata": {},
   "outputs": [],
   "source": [
    "# Defining loss\n",
    "try:\n",
    "  # For CUDA\n",
    "  criterion = torch.nn.CrossEntropyLoss(ignore_index=0).cuda() \n",
    "except:\n",
    "  criterion = torch.nn.CrossEntropyLoss(ignore_index=0)\n",
    "# model.eval()\n",
    "print(\"Done!\")"
   ]
  },
  {
   "cell_type": "code",
   "execution_count": null,
   "id": "5872434f-da85-44fe-9a00-afe0b4db0575",
   "metadata": {},
   "outputs": [],
   "source": [
    " # Chosing and displaying test images\n",
    "from PIL import Image\n",
    "import matplotlib.pyplot as plt\n",
    "import numpy as np\n",
    "\n",
    "\n",
    "%matplotlib inline\n",
    "\n",
    "test_images = [\n",
    "     (test + \"/1002_1.png\", \"PRIVATE\" ),\n",
    "    (test + \"/1002_2.png\", \"PARKING\" ),\n",
    "    (test + \"/1009_1.png\", \"Salutes\" ),\n",
    "    (test + \"/100_1.png\", \"DOLCE\" ),\n",
    "    (test + \"/100_2.png\", \"GABBANA\" ),\n",
    "    (test + \"/27_4.png\", \"India\" ),\n",
    "    (test + \"/69_2.png\", \"LIKE\" ),\n",
    "]\n",
    "\n",
    "input_datas = []\n",
    "\n",
    "n_images = len(test_images)\n",
    "fig = plt.figure(figsize=(1,4))\n",
    "fig.suptitle(\"\")\n",
    "for n, (imagepath, label) in enumerate(test_images):\n",
    "  # a = fig.add_subplot(np.ceil(n_images/float(1)), 1, n + 1)\n",
    "  a = fig.add_subplot(int(np.ceil(n_images/float(1))), 1, n + 1)\n",
    "  image = Image.open(imagepath).convert('L')\n",
    "  plt.imshow(image, cmap=\"Purples\")\n",
    "  a.set_title(label)\n",
    "  input_datas.append((image, label))\n",
    "fig.set_size_inches(np.array(fig.get_size_inches()) * n_images)\n",
    "plt.show()"
   ]
  },
  {
   "cell_type": "code",
   "execution_count": null,
   "id": "40ae9503-389e-48df-9e80-42ded936e80b",
   "metadata": {},
   "outputs": [],
   "source": [
    "from dataset import AlignCollate\n",
    "_AlignCollate = AlignCollate(imgH=opt.imgH, imgW=opt.imgW)\n",
    "image_tensors, labels = _AlignCollate(input_datas)\n",
    "\n",
    "print(labels)"
   ]
  },
  {
   "cell_type": "code",
   "execution_count": null,
   "id": "c4b6c4fb-03af-4b6a-874e-3d335055c7e0",
   "metadata": {},
   "outputs": [],
   "source": [
    "evaluation_loader = torch.utils.data.DataLoader(\n",
    "            input_datas, batch_size=2,\n",
    "            shuffle=False,\n",
    "            num_workers=int(opt.workers),\n",
    "            collate_fn=_AlignCollate, pin_memory=True)\n",
    "print(\"Created evaluation loader\")"
   ]
  },
  {
   "cell_type": "code",
   "execution_count": null,
   "id": "f002b3ce-598e-4ea0-ac07-442377302849",
   "metadata": {},
   "outputs": [],
   "source": [
    "\n",
    "       # Predicting the labels of the chosen images\n",
    "import torch\n",
    "\n",
    "max_length = 10\n",
    "total_correct = 0\n",
    "total_samples = 0\n",
    "\n",
    "with torch.no_grad():\n",
    "    for i, (cpu_images, cpu_texts) in enumerate(evaluation_loader):\n",
    "        batch_size = cpu_images.size(0)\n",
    "        length_of_data = 0 + batch_size\n",
    "        \n",
    "        # Move data to GPU if available\n",
    "        if torch.cuda.is_available():\n",
    "            image = cpu_images.cuda()\n",
    "            length_for_pred = torch.cuda.IntTensor([max_length] * batch_size)\n",
    "            text_for_pred = torch.cuda.LongTensor(batch_size, max_length + 1).fill_(0)\n",
    "             text_for_loss, length_for_loss = converter.encode(cpu_texts)\n",
    "        else:\n",
    "            image = cpu_images\n",
    "            length_for_pred = torch.IntTensor([max_length] * batch_size)\n",
    "            text_for_pred = torch.LongTensor(batch_size, max_length + 1).fill_(0)\n",
    "            text_for_loss, length_for_loss = converter.encode(cpu_texts)\n",
    "        \n",
    "          \n",
    "        preds = model(image, text_for_pred, is_train=False)\n",
    "        preds = preds[:, :text_for_loss.shape[1] - 1, :]\n",
    "        target = text_for_loss[:, 1:]\n",
    "        _, preds_index = preds.max(2)\n",
    "        \n",
    "        sim_preds = converter.decode(preds_index, length_for_pred)\n",
    "        sim_preds = list(map(lambda s: s.replace(\"[s]\", \"\").replace(\"[GO]\", \"\"), sim_preds))\n",
    "        \n",
    "        # Calculate accuracy\n",
    "        correct = sum([1 for gt, pred in zip(cpu_texts, sim_preds) if gt == pred])\n",
    "        total_correct += correct\n",
    "        total_samples += batch_size\n",
    "        \n",
    "        print(\"Exact labels:\", cpu_texts)\n",
    "        print(\"Predicted   :\", sim_preds)\n",
    "    \n",
    "    accuracy = total_correct / total_samples\n",
    "    print(\"Accuracy    :\", accuracy)"
   ]
  },
  {
   "cell_type": "code",
   "execution_count": null,
   "id": "8e41327e-0d26-4341-9bf1-8e3b198f92c7",
   "metadata": {},
   "outputs": [],
   "source": []
  },
  {
   "cell_type": "code",
   "execution_count": null,
   "id": "9e8c2fe5-aa07-45be-b8b0-80d8e33f704e",
   "metadata": {},
   "outputs": [],
   "source": []
  }
 ],
 "metadata": {
  "kernelspec": {
   "display_name": "Python 3 (ipykernel)",
   "language": "python",
   "name": "python3"
  },
  "language_info": {
   "codemirror_mode": {
    "name": "ipython",
    "version": 3
   },
   "file_extension": ".py",
   "mimetype": "text/x-python",
   "name": "python",
   "nbconvert_exporter": "python",
   "pygments_lexer": "ipython3",
   "version": "3.13.4"
  }
 },
 "nbformat": 4,
 "nbformat_minor": 5
}
